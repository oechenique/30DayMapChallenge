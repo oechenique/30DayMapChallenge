{
  "nbformat": 4,
  "nbformat_minor": 0,
  "metadata": {
    "colab": {
      "provenance": []
    },
    "kernelspec": {
      "name": "python3",
      "display_name": "Python 3"
    },
    "language_info": {
      "name": "python"
    }
  },
  "cells": [
    {
      "cell_type": "markdown",
      "source": [
        "# 🖥️ #30DayMapChallenge 2024 - Day 7: Vintage Style\n",
        "\n",
        "## Time Travel: 1960s Computer Mapping! 💾"
      ],
      "metadata": {
        "id": "rqK320yIzEbG"
      }
    },
    {
      "cell_type": "markdown",
      "source": [
        "### 1. Understanding Vintage Computer Maps: LOADING... █████░░░\n",
        "\n",
        "#### What are Vintage Computer Maps?\n",
        "Early digital cartography had unique characteristics:\n",
        "* ASCII characters as mapping elements\n",
        "* Monochrome phosphor displays (usually green)\n",
        "* Limited resolution and detail\n",
        "* Printed on line printers or displayed on CRT monitors\n",
        "* Required massive mainframe computers!\n",
        "\n",
        "#### Properties of Early Computer Maps\n",
        "* **Resolution**: Typically 80x24 or 132x72 characters\n",
        "* **Colors**: Single phosphor (green/amber)\n",
        "* **Output**: Dot-matrix printers\n",
        "* **Storage**: Magnetic tapes and punch cards\n",
        "* **Processing Time**: Several hours per map!"
      ],
      "metadata": {
        "id": "brUZK5zYzFGc"
      }
    },
    {
      "cell_type": "markdown",
      "source": [
        "### 2. The Art of ASCII Mapping 📟\n",
        "\n",
        "#### Display Elements\n",
        "1. **Terrain Features**\n",
        "   - Mountains: /\\/\\/\\ or ^^^\n",
        "   - Water: ~~~~ or ≈≈≈≈\n",
        "   - Plains: ... or ___\n",
        "   - Cities: [*] or (+)\n",
        "\n",
        "2. **Map Components**\n",
        "   - Borders: |-+= characters\n",
        "   - Labels: UPPERCASE text\n",
        "   - Coordinates: Basic grid system\n",
        "   - Scale: Approximate character-based\n",
        "\n",
        "3. **Special Effects**\n",
        "   - CRT scan lines\n",
        "   - Phosphor glow\n",
        "   - Monitor bezel\n",
        "   - Screen curvature"
      ],
      "metadata": {
        "id": "QLG0tTSfzIIO"
      }
    },
    {
      "cell_type": "markdown",
      "source": [
        "### 3. Technical Implementation 💻"
      ],
      "metadata": {
        "id": "Z-6M5WSazN4x"
      }
    },
    {
      "cell_type": "code",
      "source": [
        "import geopandas as gpd\n",
        "import numpy as np\n",
        "import matplotlib.pyplot as plt\n",
        "from matplotlib.font_manager import FontProperties\n",
        "import matplotlib.patheffects as PathEffects\n",
        "from matplotlib.patches import Rectangle\n",
        "import requests\n",
        "import zipfile\n",
        "import io\n",
        "import os"
      ],
      "metadata": {
        "id": "zVMrzNtXt2fE"
      },
      "execution_count": 3,
      "outputs": []
    },
    {
      "cell_type": "code",
      "source": [
        "# Download Natural Earth data\n",
        "url = \"https://github.com/oechenique/30DayMapChallenge/raw/refs/heads/main/Notebooks/data/data_day7/ne_110m_admin_0_countries.zip\"\n",
        "response = requests.get(url)\n",
        "z = zipfile.ZipFile(io.BytesIO(response.content))\n",
        "z.extractall(\"ne_data\")\n",
        "world = gpd.read_file(\"ne_data/ne_110m_admin_0_countries.shp\")"
      ],
      "metadata": {
        "id": "WC7CrXZ1uPXd"
      },
      "execution_count": 10,
      "outputs": []
    },
    {
      "cell_type": "code",
      "source": [
        "# Create figure with black background\n",
        "plt.style.use('dark_background')\n",
        "fig, ax = plt.subplots(figsize=(15, 10), facecolor='black')\n",
        "ax.set_facecolor('black')\n",
        "\n",
        "# Create ASCII effect for continents\n",
        "def create_ascii_effect(geom, resolution=100):\n",
        "    x, y = geom.exterior.xy\n",
        "    return np.column_stack([x, y])\n",
        "\n",
        "# Plot each country with ASCII-like effect\n",
        "for idx, country in world.iterrows():\n",
        "    if country.geometry is None:\n",
        "        continue\n",
        "\n",
        "    # Convert MultiPolygons to Polygons\n",
        "    if country.geometry.type == 'MultiPolygon':\n",
        "        polygons = [p for p in country.geometry.geoms]\n",
        "    else:\n",
        "        polygons = [country.geometry]\n",
        "\n",
        "    # Plot each polygon with ASCII effect\n",
        "    for poly in polygons:\n",
        "        coords = create_ascii_effect(poly)\n",
        "        # Plot dots for the outline\n",
        "        ax.plot(coords[:, 0], coords[:, 1], 'go', markersize=1, alpha=0.6)\n",
        "        # Fill with ASCII-like characters\n",
        "        ax.fill(coords[:, 0], coords[:, 1], 'g', alpha=0.3)\n",
        "\n",
        "# Add grid lines in retro style\n",
        "ax.grid(True, linestyle=':', color='green', alpha=0.3)\n",
        "\n",
        "# Add some major cities as asterisks\n",
        "cities = {\n",
        "    'NEW YORK': (-74, 40.7),\n",
        "    'CAIRO': (31.2, 30.0),           # Cairo coordinates\n",
        "    'TOKYO': (139.7, 35.7),\n",
        "    'ROME': (12.5, 41.9),            # Rome coordinates\n",
        "    'BUENOS AIRES': (-58.4, -34.6)   # Buenos Aires coordinates\n",
        "}\n",
        "\n",
        "for city, coords in cities.items():\n",
        "    ax.plot(coords[0], coords[1], '*', color='lime', markersize=10)\n",
        "    txt = ax.text(coords[0], coords[1]+3, city, color='lime',\n",
        "                 fontsize=8, ha='center', family='monospace')\n",
        "    txt.set_path_effects([PathEffects.withStroke(linewidth=2, foreground='black')])\n",
        "\n",
        "# Add CRT screen effect\n",
        "def add_crt_effect(ax):\n",
        "    # Add scan lines\n",
        "    for y in np.linspace(ax.get_ylim()[0], ax.get_ylim()[1], 100):\n",
        "        ax.axhline(y=y, color='green', alpha=0.1, linewidth=0.5)\n",
        "\n",
        "add_crt_effect(ax)\n",
        "\n",
        "# Add title and date in retro style\n",
        "title_text = \"WORLD MAP - 30 DAY MAP CHALLENGE - DAY 7: VINTAGE\"\n",
        "date_text = \"COMPUTER CARTOGRAPHY SYSTEM V1.0 - 1972\"\n",
        "status_text = \"PROCESSING... COORDINATES LOADED... MAP GENERATED\"\n",
        "\n",
        "ax.text(0.5, 0.95, title_text, transform=ax.transAxes, fontsize=12,\n",
        "        family='monospace', color='lime', ha='center', va='center')\n",
        "ax.text(0.5, 0.90, date_text, transform=ax.transAxes, fontsize=10,\n",
        "        family='monospace', color='lime', ha='center', va='center')\n",
        "ax.text(0.5, 0.85, status_text, transform=ax.transAxes, fontsize=8,\n",
        "        family='monospace', color='lime', ha='center', va='center')\n",
        "\n",
        "# Add border effect like an old CRT monitor\n",
        "border = Rectangle((-180, -90), 360, 180, fill=False,\n",
        "                  color='lime', linewidth=2, alpha=0.5)\n",
        "ax.add_patch(border)\n",
        "\n",
        "# Set map extent and remove axis labels\n",
        "ax.set_xlim([-180, 180])\n",
        "ax.set_ylim([-90, 90])\n",
        "ax.set_xticks([])\n",
        "ax.set_yticks([])\n",
        "\n",
        "# Add \"monitor\" frame\n",
        "fig.patch.set_alpha(1)\n",
        "plt.subplots_adjust(top=1, bottom=0, left=0, right=1)\n",
        "\n",
        "# Save the map\n",
        "plt.savefig('vintage_world_map.png', facecolor='black',\n",
        "            edgecolor='none', bbox_inches='tight', dpi=300)\n",
        "plt.close()\n",
        "\n",
        "# Clean up downloaded data\n",
        "import shutil\n",
        "shutil.rmtree(\"ne_data\")"
      ],
      "metadata": {
        "colab": {
          "base_uri": "https://localhost:8080/"
        },
        "id": "ylZUVocjt5gL",
        "outputId": "1b8afc33-acf8-4f5b-a0f4-8b19fd3a811f"
      },
      "execution_count": 11,
      "outputs": [
        {
          "output_type": "stream",
          "name": "stderr",
          "text": [
            "<ipython-input-11-059f87e2e207>:17: ShapelyDeprecationWarning: The 'type' attribute is deprecated, and will be removed in the future. You can use the 'geom_type' attribute instead.\n",
            "  if country.geometry.type == 'MultiPolygon':\n"
          ]
        }
      ]
    },
    {
      "cell_type": "markdown",
      "source": [
        "### 4. Easter Eggs: Tokyo Edition 🗼\n",
        "\n",
        "Hidden elements in our vintage map:\n",
        "* TOK-1: Tokyo Tower (東京タワー) marked as [*]\n",
        "* LOCATION: 35.6897° N, 139.6922° E\n",
        "* STATUS: OPERATIONAL\n",
        "* ELEVATION: 333M\n",
        "* NOTE: TALLEST STRUCTURE IN JAPAN (1958-2012)"
      ],
      "metadata": {
        "id": "qtTFW42jzSUk"
      }
    },
    {
      "cell_type": "markdown",
      "source": [
        "### 5. Vintage Computing Facts 🎮\n",
        "\n",
        "#### Hardware of the Era\n",
        "* IBM System/360\n",
        "* CDC 3600\n",
        "* UNIVAC 1108\n",
        "* Each with less power than a modern calculator!\n",
        "\n",
        "#### Memory Constraints\n",
        "* AVAILABLE MEMORY: 64K\n",
        "* STORAGE TYPE: MAGNETIC TAPE\n",
        "* PROCESSING: BATCH MODE\n",
        "* TIME TO RENDER: 2-3 HOURS"
      ],
      "metadata": {
        "id": "Sl2jlZ90zTOY"
      }
    },
    {
      "cell_type": "markdown",
      "source": [
        "### 6. Design Elements 📺\n",
        "\n",
        "#### Monitor Effects\n",
        "1. **Phosphor Persistence**\n",
        "   - Slight trailing effect\n",
        "   - Character bleeding\n",
        "   - Screen burn-in simulation\n",
        "\n",
        "2. **Hardware Limitations**\n",
        "   - 80-column display\n",
        "   - Monospaced characters\n",
        "   - Limited refresh rate\n",
        "   - Visible scan lines"
      ],
      "metadata": {
        "id": "l4AMlZRjzVpY"
      }
    },
    {
      "cell_type": "markdown",
      "source": [
        "### 7. System Messages 🔧\n",
        "\n",
        "```\n",
        "SYSTEM: IBM SYSTEM/360\n",
        "STATUS: OPERATIONAL\n",
        "MEMORY: 64K AVAILABLE\n",
        "COORDINATES LOADED...\n",
        "PROCESSING MAP DATA...\n",
        "PLEASE WAIT...\n",
        "ESTIMATED TIME: 2:47:33\n",
        "```"
      ],
      "metadata": {
        "id": "UECelc6SzYg8"
      }
    },
    {
      "cell_type": "markdown",
      "source": [
        "### 8. Additional Resources 📚\n",
        "* [Computer History Museum](https://computerhistory.org/)\n",
        "* [Vintage Computing Federation](http://www.vcfed.org/)\n",
        "* [Early GIS History](https://www.esri.com/about/history.html)"
      ],
      "metadata": {
        "id": "rTa6JiwTzcZz"
      }
    },
    {
      "cell_type": "markdown",
      "source": [
        "### 9. Safety Notice (システムメッセージ)\n",
        "* CAUTION: HIGH VOLTAGE DISPLAY\n",
        "* DO NOT ADJUST VERTICAL HOLD\n",
        "* システムエラーが発生しました (SYSTEM ERROR OCCURRED)\n",
        "* バックアップを推奨します (BACKUP RECOMMENDED)"
      ],
      "metadata": {
        "id": "Rpn3qsT0zfHR"
      }
    },
    {
      "cell_type": "markdown",
      "source": [
        "### END OF TRANSMISSION... 🚀\n",
        "SAVING TO MAGNETIC TAPE...\n",
        "PLEASE WAIT...\n",
        "▓▓▓▓▓▓▓▓▓░░░\n",
        "\n",
        "Remember what the old mainframe operators used to say:\n",
        "\"In code we trust, but always verify your punch cards!\" 😅"
      ],
      "metadata": {
        "id": "DVTOXbflzhUa"
      }
    },
    {
      "cell_type": "code",
      "source": [
        "#@title Follow Me!\n",
        "%%html\n",
        "\n",
        "<div style=\"background: linear-gradient(90deg, #1a1a1a, #2d2d2d); color: white; padding: 2rem; border-radius: 10px; font-family: 'Roboto', sans-serif; margin-top: 2rem;\">\n",
        "    <h2 style=\"text-align: center; margin-bottom: 1rem;\">\n",
        "        <span style=\"display: block; color: white; font-size: 2.7rem; margin-bottom: 0.5rem;\">ありがとうございます！</span>\n",
        "        <span style=\"display: block; color: white; font-size: 1.8rem;\">🌍 Thank you for making it this far! 🎌</span>\n",
        "    </h2>\n",
        "\n",
        "    <p style=\"font-size: 1.2rem; margin-bottom: 1.5rem;\">If you're interested in the world of geoinformatics and want to keep learning, connect with me! | 一緒に学びましょう！</p>\n",
        "\n",
        "    <div style=\"display: flex; flex-wrap: wrap; gap: 1rem; margin-bottom: 1rem;\">\n",
        "        <a href=\"https://x.com/GastonEchenique\" target=\"_blank\" style=\"text-decoration: none; color: white; display: flex; align-items: center; background: #1DA1F2; padding: 0.5rem 1rem; border-radius: 5px; transition: transform 0.2s;\">\n",
        "            <svg style=\"width: 24px; height: 24px; margin-right: 0.5rem;\" viewBox=\"0 0 24 24\" fill=\"currentColor\">\n",
        "                <path d=\"M18.244 2.25h3.308l-7.227 8.26 8.502 11.24H16.17l-5.214-6.817L4.99 21.75H1.68l7.73-8.835L1.254 2.25H8.08l4.713 6.231zm-1.161 17.52h1.833L7.084 4.126H5.117z\"/>\n",
        "            </svg>\n",
        "            <span>@GastonEchenique</span>\n",
        "        </a>\n",
        "\n",
        "        <a href=\"https://www.linkedin.com/in/gaston-echenique/\" target=\"_blank\" style=\"text-decoration: none; color: white; display: flex; align-items: center; background: #0A66C2; padding: 0.5rem 1rem; border-radius: 5px; transition: transform 0.2s;\">\n",
        "            <svg style=\"width: 24px; height: 24px; margin-right: 0.5rem;\" viewBox=\"0 0 24 24\" fill=\"currentColor\">\n",
        "                <path d=\"M20.447 20.452h-3.554v-5.569c0-1.328-.027-3.037-1.852-3.037-1.853 0-2.136 1.445-2.136 2.939v5.667H9.351V9h3.414v1.561h.046c.477-.9 1.637-1.85 3.37-1.85 3.601 0 4.267 2.37 4.267 5.455v6.286zM5.337 7.433c-1.144 0-2.063-.926-2.063-2.065 0-1.138.92-2.063 2.063-2.063 1.14 0 2.064.925 2.064 2.063 0 1.139-.925 2.065-2.064 2.065zm1.782 13.019H3.555V9h3.564v11.452zM22.225 0H1.771C.792 0 0 .774 0 1.729v20.542C0 23.227.792 24 1.771 24h20.451C23.2 24 24 23.227 24 22.271V1.729C24 .774 23.2 0 22.222 0h.003z\"/>\n",
        "            </svg>\n",
        "            <span>Gastón Echenique</span>\n",
        "        </a>\n",
        "\n",
        "        <a href=\"https://github.com/oechenique\" target=\"_blank\" style=\"text-decoration: none; color: white; display: flex; align-items: center; background: #333; padding: 0.5rem 1rem; border-radius: 5px; transition: transform 0.2s;\">\n",
        "            <svg style=\"width: 24px; height: 24px; margin-right: 0.5rem;\" viewBox=\"0 0 24 24\" fill=\"currentColor\">\n",
        "                <path d=\"M12 0c-6.626 0-12 5.373-12 12 0 5.302 3.438 9.8 8.207 11.387.599.111.793-.261.793-.577v-2.234c-3.338.726-4.033-1.416-4.033-1.416-.546-1.387-1.333-1.756-1.333-1.756-1.089-.745.083-.729.083-.729 1.205.084 1.839 1.237 1.839 1.237 1.07 1.834 2.807 1.304 3.492.997.107-.775.418-1.305.762-1.604-2.665-.305-5.467-1.334-5.467-5.931 0-1.311.469-2.381 1.236-3.221-.124-.303-.535-1.524.117-3.176 0 0 1.008-.322 3.301 1.23.957-.266 1.983-.399 3.003-.404 1.02.005 2.047.138 3.006.404 2.291-1.552 3.297-1.23 3.297-1.23.653 1.653.242 2.874.118 3.176.77.84 1.235 1.911 1.235 3.221 0 4.609-2.807 5.624-5.479 5.921.43.372.823 1.102.823 2.222v3.293c0 .319.192.694.801.576 4.765-1.589 8.199-6.086 8.199-11.386 0-6.627-5.373-12-12-12z\"/>\n",
        "            </svg>\n",
        "            <span>oechenique</span>\n",
        "        </a>\n",
        "\n",
        "        <a href=\"https://oechenique.github.io/geoanalytics/\" target=\"_blank\" style=\"text-decoration: none; color: white; display: flex; align-items: center; background: #2ecc71; padding: 0.5rem 1rem; border-radius: 5px; transition: transform 0.2s;\">\n",
        "            <svg style=\"width: 24px; height: 24px; margin-right: 0.5rem;\" viewBox=\"0 0 24 24\" fill=\"currentColor\">\n",
        "                <path d=\"M12 0c-6.627 0-12 5.373-12 12s5.373 12 12 12 12-5.373 12-12-5.373-12-12-12zm1 16.057v-3.057h2.994c-.059 1.143-.212 2.24-.456 3.279-.823-.12-1.674-.188-2.538-.222zm1.957 2.162c-.499 1.33-1.159 2.497-1.957 3.456v-3.62c.666.028 1.319.081 1.957.164zm-1.957-7.219v-3.015c.868-.034 1.721-.103 2.548-.224.238 1.027.389 2.111.446 3.239h-2.994zm0-5.014v-3.661c.806.969 1.471 2.15 1.971 3.496-.642.084-1.3.137-1.971.165zm2.703-3.267c1.237.496 2.354 1.228 3.29 2.146-.642.234-1.311.442-2.019.607-.344-.992-.775-1.91-1.271-2.753zm-7.241 13.56c-.244-1.039-.398-2.136-.456-3.279h2.994v3.057c-.865.034-1.714.102-2.538.222zm2.538 1.776v3.62c-.798-.959-1.458-2.126-1.957-3.456.638-.083 1.291-.136 1.957-.164zm-2.994-7.055c.057-1.128.207-2.212.446-3.239.827.121 1.68.19 2.548.224v3.015h-2.994zm1.024-5.179c.5-1.346 1.165-2.527 1.97-3.496v3.661c-.671-.028-1.329-.081-1.97-.165zm-2.005-.35c-.708-.165-1.377-.373-2.018-.607.937-.918 2.053-1.65 3.29-2.146-.496.844-.927 1.762-1.272 2.753zm-.549 1.918c-.264 1.151-.434 2.36-.492 3.611h-3.933c.165-1.658.739-3.197 1.617-4.518.88.361 1.816.67 2.808.907zm.009 9.262c-.988.236-1.92.542-2.797.9-.89-1.328-1.471-2.879-1.637-4.551h3.934c.058 1.265.231 2.488.5 3.651zm.553 1.917c.342.976.768 1.881 1.257 2.712-1.223-.49-2.326-1.211-3.256-2.115.636-.229 1.299-.435 1.999-.597zm9.924 0c.7.163 1.362.367 1.999.597-.931.903-2.034 1.625-3.257 2.116.489-.832.915-1.737 1.258-2.713zm.553-1.917c.27-1.163.442-2.386.501-3.651h3.934c-.167 1.672-.748 3.223-1.638 4.551-.877-.358-1.81-.664-2.797-.9zm.501-5.651c-.058-1.251-.229-2.46-.492-3.611.992-.237 1.929-.546 2.809-.907.877 1.321 1.451 2.86 1.616 4.518h-3.933z\"/>\n",
        "            </svg>\n",
        "            <span>GeoAnalytics</span>\n",
        "        </a>\n",
        "\n",
        "        <a href=\"https://discord.com/users/gastonechenique\" target=\"_blank\" style=\"text-decoration: none; color: white; display: flex; align-items: center; background: #5865F2; padding: 0.5rem 1rem; border-radius: 5px; transition: transform 0.2s;\">\n",
        "            <svg style=\"width: 24px; height: 24px; margin-right: 0.5rem;\" viewBox=\"0 0 24 24\" fill=\"currentColor\">\n",
        "                <path d=\"M20.317 4.37a19.791 19.791 0 0 0-4.885-1.515a.074.074 0 0 0-.079.037c-.21.375-.444.864-.608 1.25a18.27 18.27 0 0 0-5.487 0a12.64 12.64 0 0 0-.617-1.25a.077.077 0 0 0-.079-.037A19.736 19.736 0 0 0 3.677 4.37a.07.07 0 0 0-.032.027C.533 9.046-.32 13.58.099 18.057a.082.082 0 0 0 .031.057a19.9 19.9 0 0 0 5.993 3.03a.078.078 0 0 0 .084-.028a14.09 14.09 0 0 0 1.226-1.994a.076.076 0 0 0-.041-.106a13.107 13.107 0 0 1-1.872-.892a.077.077 0 0 1-.008-.128a10.2 10.2 0 0 0 .372-.292a.074.074 0 0 1 .077-.01c3.928 1.793 8.18 1.793 12.062 0a.074.074 0 0 1 .078.01c.12.098.246.198.373.292a.077.077 0 0 1-.006.127a12.299 12.299 0 0 1-1.873.892a.077.077 0 0 0-.041.107c.36.698.772 1.362 1.225 1.993a.076.076 0 0 0 .084.028a19.839 19.839 0 0 0 6.002-3.03a.077.077 0 0 0 .032-.054c.5-5.177-.838-9.674-3.549-13.66a.061.061 0 0 0-.031-.03zM8.02 15.33c-1.183 0-2.157-1.085-2.157-2.419c0-1.333.956-2.419 2.157-2.419c1.21 0 2.176 1.096 2.157 2.42c0 1.333-.956 2.418-2.157 2.418zm7.975 0c-1.183 0-2.157-1.085-2.157-2.419c0-1.333.955-2.419 2.157-2.419c1.21 0 2.176 1.096 2.157 2.42c0 1.333-.946 2.418-2.157 2.418z\"/>\n",
        "            </svg>\n",
        "            <span>Gaston | ガストン</span>\n",
        "        </a>\n",
        "    </div>\n",
        "\n",
        "    <p style=\"font-size: 1rem; color: #888;\">💡 頑張りましょう！Don't miss more content about GIS, Data Science and Geoinformatics!</p>\n",
        "\n",
        "    <div style=\"margin-top: 1rem; padding-top: 1rem; border-top: 1px solid #444; font-size: 0.9rem; color: #666;\">\n",
        "        Made with 🗺️ & 💻 by Gaston Echenique | エチェニケ・ガストン\n",
        "    </div>\n",
        "</div>"
      ],
      "metadata": {
        "colab": {
          "base_uri": "https://localhost:8080/",
          "height": 418
        },
        "cellView": "form",
        "id": "3t2evChezjwR",
        "outputId": "41dc6697-40cd-4f73-9b85-aebff4a871f7"
      },
      "execution_count": 12,
      "outputs": [
        {
          "output_type": "display_data",
          "data": {
            "text/plain": [
              "<IPython.core.display.HTML object>"
            ],
            "text/html": [
              "\n",
              "<div style=\"background: linear-gradient(90deg, #1a1a1a, #2d2d2d); color: white; padding: 2rem; border-radius: 10px; font-family: 'Roboto', sans-serif; margin-top: 2rem;\">\n",
              "    <h2 style=\"text-align: center; margin-bottom: 1rem;\">\n",
              "        <span style=\"display: block; color: white; font-size: 2.7rem; margin-bottom: 0.5rem;\">ありがとうございます！</span>\n",
              "        <span style=\"display: block; color: white; font-size: 1.8rem;\">🌍 Thank you for making it this far! 🎌</span>\n",
              "    </h2>\n",
              "\n",
              "    <p style=\"font-size: 1.2rem; margin-bottom: 1.5rem;\">If you're interested in the world of geoinformatics and want to keep learning, connect with me! | 一緒に学びましょう！</p>\n",
              "\n",
              "    <div style=\"display: flex; flex-wrap: wrap; gap: 1rem; margin-bottom: 1rem;\">\n",
              "        <a href=\"https://x.com/GastonEchenique\" target=\"_blank\" style=\"text-decoration: none; color: white; display: flex; align-items: center; background: #1DA1F2; padding: 0.5rem 1rem; border-radius: 5px; transition: transform 0.2s;\">\n",
              "            <svg style=\"width: 24px; height: 24px; margin-right: 0.5rem;\" viewBox=\"0 0 24 24\" fill=\"currentColor\">\n",
              "                <path d=\"M18.244 2.25h3.308l-7.227 8.26 8.502 11.24H16.17l-5.214-6.817L4.99 21.75H1.68l7.73-8.835L1.254 2.25H8.08l4.713 6.231zm-1.161 17.52h1.833L7.084 4.126H5.117z\"/>\n",
              "            </svg>\n",
              "            <span>@GastonEchenique</span>\n",
              "        </a>\n",
              "\n",
              "        <a href=\"https://www.linkedin.com/in/gaston-echenique/\" target=\"_blank\" style=\"text-decoration: none; color: white; display: flex; align-items: center; background: #0A66C2; padding: 0.5rem 1rem; border-radius: 5px; transition: transform 0.2s;\">\n",
              "            <svg style=\"width: 24px; height: 24px; margin-right: 0.5rem;\" viewBox=\"0 0 24 24\" fill=\"currentColor\">\n",
              "                <path d=\"M20.447 20.452h-3.554v-5.569c0-1.328-.027-3.037-1.852-3.037-1.853 0-2.136 1.445-2.136 2.939v5.667H9.351V9h3.414v1.561h.046c.477-.9 1.637-1.85 3.37-1.85 3.601 0 4.267 2.37 4.267 5.455v6.286zM5.337 7.433c-1.144 0-2.063-.926-2.063-2.065 0-1.138.92-2.063 2.063-2.063 1.14 0 2.064.925 2.064 2.063 0 1.139-.925 2.065-2.064 2.065zm1.782 13.019H3.555V9h3.564v11.452zM22.225 0H1.771C.792 0 0 .774 0 1.729v20.542C0 23.227.792 24 1.771 24h20.451C23.2 24 24 23.227 24 22.271V1.729C24 .774 23.2 0 22.222 0h.003z\"/>\n",
              "            </svg>\n",
              "            <span>Gastón Echenique</span>\n",
              "        </a>\n",
              "\n",
              "        <a href=\"https://github.com/oechenique\" target=\"_blank\" style=\"text-decoration: none; color: white; display: flex; align-items: center; background: #333; padding: 0.5rem 1rem; border-radius: 5px; transition: transform 0.2s;\">\n",
              "            <svg style=\"width: 24px; height: 24px; margin-right: 0.5rem;\" viewBox=\"0 0 24 24\" fill=\"currentColor\">\n",
              "                <path d=\"M12 0c-6.626 0-12 5.373-12 12 0 5.302 3.438 9.8 8.207 11.387.599.111.793-.261.793-.577v-2.234c-3.338.726-4.033-1.416-4.033-1.416-.546-1.387-1.333-1.756-1.333-1.756-1.089-.745.083-.729.083-.729 1.205.084 1.839 1.237 1.839 1.237 1.07 1.834 2.807 1.304 3.492.997.107-.775.418-1.305.762-1.604-2.665-.305-5.467-1.334-5.467-5.931 0-1.311.469-2.381 1.236-3.221-.124-.303-.535-1.524.117-3.176 0 0 1.008-.322 3.301 1.23.957-.266 1.983-.399 3.003-.404 1.02.005 2.047.138 3.006.404 2.291-1.552 3.297-1.23 3.297-1.23.653 1.653.242 2.874.118 3.176.77.84 1.235 1.911 1.235 3.221 0 4.609-2.807 5.624-5.479 5.921.43.372.823 1.102.823 2.222v3.293c0 .319.192.694.801.576 4.765-1.589 8.199-6.086 8.199-11.386 0-6.627-5.373-12-12-12z\"/>\n",
              "            </svg>\n",
              "            <span>oechenique</span>\n",
              "        </a>\n",
              "\n",
              "        <a href=\"https://oechenique.github.io/geoanalytics/\" target=\"_blank\" style=\"text-decoration: none; color: white; display: flex; align-items: center; background: #2ecc71; padding: 0.5rem 1rem; border-radius: 5px; transition: transform 0.2s;\">\n",
              "            <svg style=\"width: 24px; height: 24px; margin-right: 0.5rem;\" viewBox=\"0 0 24 24\" fill=\"currentColor\">\n",
              "                <path d=\"M12 0c-6.627 0-12 5.373-12 12s5.373 12 12 12 12-5.373 12-12-5.373-12-12-12zm1 16.057v-3.057h2.994c-.059 1.143-.212 2.24-.456 3.279-.823-.12-1.674-.188-2.538-.222zm1.957 2.162c-.499 1.33-1.159 2.497-1.957 3.456v-3.62c.666.028 1.319.081 1.957.164zm-1.957-7.219v-3.015c.868-.034 1.721-.103 2.548-.224.238 1.027.389 2.111.446 3.239h-2.994zm0-5.014v-3.661c.806.969 1.471 2.15 1.971 3.496-.642.084-1.3.137-1.971.165zm2.703-3.267c1.237.496 2.354 1.228 3.29 2.146-.642.234-1.311.442-2.019.607-.344-.992-.775-1.91-1.271-2.753zm-7.241 13.56c-.244-1.039-.398-2.136-.456-3.279h2.994v3.057c-.865.034-1.714.102-2.538.222zm2.538 1.776v3.62c-.798-.959-1.458-2.126-1.957-3.456.638-.083 1.291-.136 1.957-.164zm-2.994-7.055c.057-1.128.207-2.212.446-3.239.827.121 1.68.19 2.548.224v3.015h-2.994zm1.024-5.179c.5-1.346 1.165-2.527 1.97-3.496v3.661c-.671-.028-1.329-.081-1.97-.165zm-2.005-.35c-.708-.165-1.377-.373-2.018-.607.937-.918 2.053-1.65 3.29-2.146-.496.844-.927 1.762-1.272 2.753zm-.549 1.918c-.264 1.151-.434 2.36-.492 3.611h-3.933c.165-1.658.739-3.197 1.617-4.518.88.361 1.816.67 2.808.907zm.009 9.262c-.988.236-1.92.542-2.797.9-.89-1.328-1.471-2.879-1.637-4.551h3.934c.058 1.265.231 2.488.5 3.651zm.553 1.917c.342.976.768 1.881 1.257 2.712-1.223-.49-2.326-1.211-3.256-2.115.636-.229 1.299-.435 1.999-.597zm9.924 0c.7.163 1.362.367 1.999.597-.931.903-2.034 1.625-3.257 2.116.489-.832.915-1.737 1.258-2.713zm.553-1.917c.27-1.163.442-2.386.501-3.651h3.934c-.167 1.672-.748 3.223-1.638 4.551-.877-.358-1.81-.664-2.797-.9zm.501-5.651c-.058-1.251-.229-2.46-.492-3.611.992-.237 1.929-.546 2.809-.907.877 1.321 1.451 2.86 1.616 4.518h-3.933z\"/>\n",
              "            </svg>\n",
              "            <span>GeoAnalytics</span>\n",
              "        </a>\n",
              "\n",
              "        <a href=\"https://discord.com/users/gastonechenique\" target=\"_blank\" style=\"text-decoration: none; color: white; display: flex; align-items: center; background: #5865F2; padding: 0.5rem 1rem; border-radius: 5px; transition: transform 0.2s;\">\n",
              "            <svg style=\"width: 24px; height: 24px; margin-right: 0.5rem;\" viewBox=\"0 0 24 24\" fill=\"currentColor\">\n",
              "                <path d=\"M20.317 4.37a19.791 19.791 0 0 0-4.885-1.515a.074.074 0 0 0-.079.037c-.21.375-.444.864-.608 1.25a18.27 18.27 0 0 0-5.487 0a12.64 12.64 0 0 0-.617-1.25a.077.077 0 0 0-.079-.037A19.736 19.736 0 0 0 3.677 4.37a.07.07 0 0 0-.032.027C.533 9.046-.32 13.58.099 18.057a.082.082 0 0 0 .031.057a19.9 19.9 0 0 0 5.993 3.03a.078.078 0 0 0 .084-.028a14.09 14.09 0 0 0 1.226-1.994a.076.076 0 0 0-.041-.106a13.107 13.107 0 0 1-1.872-.892a.077.077 0 0 1-.008-.128a10.2 10.2 0 0 0 .372-.292a.074.074 0 0 1 .077-.01c3.928 1.793 8.18 1.793 12.062 0a.074.074 0 0 1 .078.01c.12.098.246.198.373.292a.077.077 0 0 1-.006.127a12.299 12.299 0 0 1-1.873.892a.077.077 0 0 0-.041.107c.36.698.772 1.362 1.225 1.993a.076.076 0 0 0 .084.028a19.839 19.839 0 0 0 6.002-3.03a.077.077 0 0 0 .032-.054c.5-5.177-.838-9.674-3.549-13.66a.061.061 0 0 0-.031-.03zM8.02 15.33c-1.183 0-2.157-1.085-2.157-2.419c0-1.333.956-2.419 2.157-2.419c1.21 0 2.176 1.096 2.157 2.42c0 1.333-.956 2.418-2.157 2.418zm7.975 0c-1.183 0-2.157-1.085-2.157-2.419c0-1.333.955-2.419 2.157-2.419c1.21 0 2.176 1.096 2.157 2.42c0 1.333-.946 2.418-2.157 2.418z\"/>\n",
              "            </svg>\n",
              "            <span>Gaston | ガストン</span>\n",
              "        </a>\n",
              "    </div>\n",
              "\n",
              "    <p style=\"font-size: 1rem; color: #888;\">💡 頑張りましょう！Don't miss more content about GIS, Data Science and Geoinformatics!</p>\n",
              "\n",
              "    <div style=\"margin-top: 1rem; padding-top: 1rem; border-top: 1px solid #444; font-size: 0.9rem; color: #666;\">\n",
              "        Made with 🗺️ & 💻 by Gaston Echenique | エチェニケ・ガストン\n",
              "    </div>\n",
              "</div>\n"
            ]
          },
          "metadata": {}
        }
      ]
    }
  ]
}