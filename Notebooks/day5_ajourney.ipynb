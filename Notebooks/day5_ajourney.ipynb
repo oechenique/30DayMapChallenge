{
  "nbformat": 4,
  "nbformat_minor": 0,
  "metadata": {
    "colab": {
      "provenance": []
    },
    "kernelspec": {
      "name": "python3",
      "display_name": "Python 3"
    },
    "language_info": {
      "name": "python"
    }
  },
  "cells": [
    {
      "cell_type": "markdown",
      "source": [
        "# 🎸 #30DayMapChallenge 2024 - Day 5: A Journey\n",
        "\n",
        "## Linkin Park: From Zero to Infinity - Mapping a Legacy 🌏"
      ],
      "metadata": {
        "id": "0KgGBJ6BImKV"
      }
    },
    {
      "cell_type": "markdown",
      "source": [
        "### 1. Understanding the Journey: From Chester to Emily 🎤\n",
        "\n",
        "#### The Band's Evolution\n",
        "* 1996: Xero formation in Agoura Hills, California\n",
        "* 1999: Chester Bennington joins\n",
        "* 2000: Hybrid Theory release\n",
        "* 2017: Chester's passing (永遠に安らかに - Rest in Peace Forever)\n",
        "* 2024: New chapter with Emily Armstrong\n",
        "\n",
        "#### Japanese Connection 日本との絆\n",
        "* Massive following in Japan since early 2000s\n",
        "* Multiple sold-out tours at Budokan (武道館)\n",
        "* \"Numb\" became an karaoke anthem in Japan\n",
        "* Special connection with Japanese fans through charity work after 2011 tsunami"
      ],
      "metadata": {
        "id": "lLneuxyMInlp"
      }
    },
    {
      "cell_type": "markdown",
      "source": [
        "### 2. Data Processing: Mapping the From Zero World Tour 🗺️\n",
        "\n",
        "#### Data Sources\n",
        "* Tour dates and venues\n",
        "* Historical concert locations\n",
        "* Fan gathering points\n",
        "* Memorial sites\n",
        "\n",
        "#### Processing Steps"
      ],
      "metadata": {
        "id": "P_-gBdZXIuoo"
      }
    },
    {
      "cell_type": "code",
      "source": [
        "import plotly.graph_objects as go\n",
        "import pandas as pd\n",
        "import numpy as np"
      ],
      "metadata": {
        "id": "nK4wxRttBWzR"
      },
      "execution_count": 1,
      "outputs": []
    },
    {
      "cell_type": "markdown",
      "source": [
        "##### 1. **データ準備 (Data Preparation)**\n",
        "* Collect venue coordinates\n",
        "* Create timeline sequences\n",
        "* Generate path connections\n",
        "* Prepare popup information"
      ],
      "metadata": {
        "id": "UW6XFRm4I4pw"
      }
    },
    {
      "cell_type": "code",
      "source": [
        "# Tour cities data\n",
        "cities = pd.DataFrame({\n",
        "    'city': ['Inglewood', 'New York', 'Hamburg', 'London', 'Incheon',\n",
        "             'Paris', 'Arlington', 'Bogota', 'Sao Paulo'],\n",
        "    'lat': [33.9602, 40.6828, 53.5507, 51.5032, 37.4601,\n",
        "            48.8847, 32.7471, 4.7110, -23.5273],\n",
        "    'lon': [-118.3410, -73.9757, 10.0144, -0.0031, 126.6419,\n",
        "            2.2370, -97.0841, -74.0721, -46.6636],\n",
        "    'date': ['11/09/2024', '16/09/2024', '22/09/2024', '24/09/2024', '28/09/2024',\n",
        "             '03/11/2024', '08/11/2024', '11/11/2024', '15/11/2024']\n",
        "})"
      ],
      "metadata": {
        "id": "-98egH_fI4Oz"
      },
      "execution_count": 2,
      "outputs": []
    },
    {
      "cell_type": "markdown",
      "source": [
        "### 3. Technical Implementation 💻"
      ],
      "metadata": {
        "id": "A8nWttR1JAPn"
      }
    },
    {
      "cell_type": "code",
      "source": [
        "# Create frames for animation with rotating globe\n",
        "frames = []\n",
        "n_frames = 180  # Number of frames for a complete rotation\n",
        "rotation_per_frame = 360 / n_frames  # Degrees to rotate per frame\n",
        "\n",
        "for i in range(n_frames):\n",
        "    frame = go.Frame(\n",
        "        data=[go.Scattergeo(\n",
        "            lon=cities['lon'],\n",
        "            lat=cities['lat'],\n",
        "            mode='markers+lines',\n",
        "            hovertext=cities['city'] + '<br>' + cities['date'],\n",
        "            hoverinfo='text',\n",
        "            line=dict(width=2, color='rgba(246, 125, 146, 0.7)'),\n",
        "            marker=dict(size=10, color='yellow', symbol='circle'),\n",
        "        )],\n",
        "        layout=go.Layout(\n",
        "            geo=dict(\n",
        "                projection_rotation=dict(\n",
        "                    lon=rotation_per_frame * i,\n",
        "                    lat=20,\n",
        "                    roll=0\n",
        "                )\n",
        "            )\n",
        "        )\n",
        "    )\n",
        "    frames.append(frame)\n",
        "\n",
        "# Create the figure object\n",
        "fig = go.Figure(\n",
        "    data=[go.Scattergeo(\n",
        "        lon=cities['lon'],\n",
        "        lat=cities['lat'],\n",
        "        mode='markers+lines',\n",
        "        hovertext=cities['city'] + '<br>' + cities['date'],  # Text shown on hover\n",
        "        hoverinfo='text',\n",
        "        textfont=dict(\n",
        "            size=12,\n",
        "            color='white',\n",
        "            family=\"Mulish\"\n",
        "        ),\n",
        "        line=dict(\n",
        "            width=2,\n",
        "            color='rgba(246, 125, 146, 0.7)'  # Light pink color with transparency\n",
        "        ),\n",
        "        marker=dict(\n",
        "            size=10,\n",
        "            color='yellow',\n",
        "            symbol='circle'\n",
        "        ),\n",
        "        name='Tour Dates'\n",
        "    )],\n",
        "    frames=frames\n",
        ")\n",
        "\n",
        "# Update layout with custom styling\n",
        "fig.update_layout(\n",
        "    title=dict(\n",
        "        text='From Zero World Tour - Linkin Park',\n",
        "        font=dict(\n",
        "            size=24,\n",
        "            color='white',\n",
        "            family=\"Mulish\"\n",
        "        ),\n",
        "        y=0.95\n",
        "    ),\n",
        "    showlegend=False,\n",
        "    geo=dict(\n",
        "        projection_type='orthographic',  # 3D globe projection\n",
        "        showland=True,\n",
        "        showcountries=True,\n",
        "        showocean=True,\n",
        "        countrywidth=0.5,\n",
        "        landcolor='rgb(34, 139, 34)',  # Green land color\n",
        "        oceancolor='rgb(0, 105, 148)',  # Blue ocean color\n",
        "        bgcolor='rgb(10, 10, 10)',      # Dark background\n",
        "        countrycolor='rgba(255, 255, 255, 0.3)',  # Light country borders\n",
        "        projection_rotation=dict(lon=0, lat=20, roll=0),  # Initial view angle\n",
        "    ),\n",
        "    paper_bgcolor='rgb(10, 10, 10)',  # Dark background\n",
        "    plot_bgcolor='rgb(10, 10, 10)',   # Dark background\n",
        "    margin=dict(l=0, r=0, t=50, b=0),  # Minimize margins\n",
        "    updatemenus=[{\n",
        "        'type': 'buttons',\n",
        "        'showactive': False,\n",
        "        'buttons': [{\n",
        "            'label': 'Play',\n",
        "            'method': 'animate',\n",
        "            'args': [None, {\n",
        "                'frame': {'duration': 50, 'redraw': True},\n",
        "                'fromcurrent': True,\n",
        "                'transition': {'duration': 0}\n",
        "            }]\n",
        "        }]\n",
        "    }]\n",
        ")\n",
        "\n",
        "# Save as interactive HTML file\n",
        "fig.write_html(\n",
        "    \"world_tour_animated.html\",\n",
        "    include_plotlyjs=True,\n",
        "    auto_play=True\n",
        ")"
      ],
      "metadata": {
        "id": "Hz7o7FewBgc0"
      },
      "execution_count": 6,
      "outputs": []
    },
    {
      "cell_type": "markdown",
      "source": [
        "### 4. Visual Elements & Symbolism 🎨\n",
        "\n",
        "#### Map Features\n",
        "* Journey lines in LP blue (#00A4BD)\n",
        "* Venue markers with music icons\n",
        "* Rotating globe effect\n",
        "* Interactive popups with concert info\n",
        "\n",
        "#### Memorial Elements\n",
        "* Special marker for Chester's memorial locations\n",
        "* Subtle butterfly animations (Chester's tattoo symbol)\n",
        "* Font choices reflecting LP's aesthetic"
      ],
      "metadata": {
        "id": "1px6_0vUJDSC"
      }
    },
    {
      "cell_type": "markdown",
      "source": [
        "### 5. Easter Eggs & References 🎵\n",
        "\n",
        "Hidden elements to include:\n",
        "* Castle of Glass constellation pattern\n",
        "* In The End coordinate path\n",
        "* Points forming the LP logo\n",
        "* Soldier silhouette (Hybrid Theory)"
      ],
      "metadata": {
        "id": "jz8VHDarJDkI"
      }
    },
    {
      "cell_type": "markdown",
      "source": [
        "### 6. Looking Forward 🚀\n",
        "\n",
        "The From Zero World Tour represents:\n",
        "* A new chapter while honoring the past\n",
        "* Emily Armstrong bringing fresh energy\n",
        "* The eternal spirit of Chester\n",
        "* The unbreakable bond with fans worldwide\n"
      ],
      "metadata": {
        "id": "HgPeKi3EJQDy"
      }
    },
    {
      "cell_type": "markdown",
      "source": [
        "### さようなら (Goodbye) Until Tomorrow!\n",
        "\"What we've done becomes the path to what we'll do.\" - Minutes to Midnight\n",
        "\n",
        "Remember: In the end, it matters that we keep moving forward while cherishing our memories. 🦋"
      ],
      "metadata": {
        "id": "2v0ij4_TJT8Z"
      }
    },
    {
      "cell_type": "code",
      "source": [
        "#@title Follow Me!\n",
        "%%html\n",
        "\n",
        "<div style=\"background: linear-gradient(90deg, #1a1a1a, #2d2d2d); color: white; padding: 2rem; border-radius: 10px; font-family: 'Roboto', sans-serif; margin-top: 2rem;\">\n",
        "    <h2 style=\"text-align: center; margin-bottom: 1rem;\">\n",
        "        <span style=\"display: block; color: white; font-size: 2.7rem; margin-bottom: 0.5rem;\">ありがとうございます！</span>\n",
        "        <span style=\"display: block; color: white; font-size: 1.8rem;\">🌍 Thank you for making it this far! 🎌</span>\n",
        "    </h2>\n",
        "\n",
        "    <p style=\"font-size: 1.2rem; margin-bottom: 1.5rem;\">If you're interested in the world of geoinformatics and want to keep learning, connect with me! | 一緒に学びましょう！</p>\n",
        "\n",
        "    <div style=\"display: flex; flex-wrap: wrap; gap: 1rem; margin-bottom: 1rem;\">\n",
        "        <a href=\"https://x.com/GastonEchenique\" target=\"_blank\" style=\"text-decoration: none; color: white; display: flex; align-items: center; background: #1DA1F2; padding: 0.5rem 1rem; border-radius: 5px; transition: transform 0.2s;\">\n",
        "            <svg style=\"width: 24px; height: 24px; margin-right: 0.5rem;\" viewBox=\"0 0 24 24\" fill=\"currentColor\">\n",
        "                <path d=\"M18.244 2.25h3.308l-7.227 8.26 8.502 11.24H16.17l-5.214-6.817L4.99 21.75H1.68l7.73-8.835L1.254 2.25H8.08l4.713 6.231zm-1.161 17.52h1.833L7.084 4.126H5.117z\"/>\n",
        "            </svg>\n",
        "            <span>@GastonEchenique</span>\n",
        "        </a>\n",
        "\n",
        "        <a href=\"https://www.linkedin.com/in/gaston-echenique/\" target=\"_blank\" style=\"text-decoration: none; color: white; display: flex; align-items: center; background: #0A66C2; padding: 0.5rem 1rem; border-radius: 5px; transition: transform 0.2s;\">\n",
        "            <svg style=\"width: 24px; height: 24px; margin-right: 0.5rem;\" viewBox=\"0 0 24 24\" fill=\"currentColor\">\n",
        "                <path d=\"M20.447 20.452h-3.554v-5.569c0-1.328-.027-3.037-1.852-3.037-1.853 0-2.136 1.445-2.136 2.939v5.667H9.351V9h3.414v1.561h.046c.477-.9 1.637-1.85 3.37-1.85 3.601 0 4.267 2.37 4.267 5.455v6.286zM5.337 7.433c-1.144 0-2.063-.926-2.063-2.065 0-1.138.92-2.063 2.063-2.063 1.14 0 2.064.925 2.064 2.063 0 1.139-.925 2.065-2.064 2.065zm1.782 13.019H3.555V9h3.564v11.452zM22.225 0H1.771C.792 0 0 .774 0 1.729v20.542C0 23.227.792 24 1.771 24h20.451C23.2 24 24 23.227 24 22.271V1.729C24 .774 23.2 0 22.222 0h.003z\"/>\n",
        "            </svg>\n",
        "            <span>Gastón Echenique</span>\n",
        "        </a>\n",
        "\n",
        "        <a href=\"https://github.com/oechenique\" target=\"_blank\" style=\"text-decoration: none; color: white; display: flex; align-items: center; background: #333; padding: 0.5rem 1rem; border-radius: 5px; transition: transform 0.2s;\">\n",
        "            <svg style=\"width: 24px; height: 24px; margin-right: 0.5rem;\" viewBox=\"0 0 24 24\" fill=\"currentColor\">\n",
        "                <path d=\"M12 0c-6.626 0-12 5.373-12 12 0 5.302 3.438 9.8 8.207 11.387.599.111.793-.261.793-.577v-2.234c-3.338.726-4.033-1.416-4.033-1.416-.546-1.387-1.333-1.756-1.333-1.756-1.089-.745.083-.729.083-.729 1.205.084 1.839 1.237 1.839 1.237 1.07 1.834 2.807 1.304 3.492.997.107-.775.418-1.305.762-1.604-2.665-.305-5.467-1.334-5.467-5.931 0-1.311.469-2.381 1.236-3.221-.124-.303-.535-1.524.117-3.176 0 0 1.008-.322 3.301 1.23.957-.266 1.983-.399 3.003-.404 1.02.005 2.047.138 3.006.404 2.291-1.552 3.297-1.23 3.297-1.23.653 1.653.242 2.874.118 3.176.77.84 1.235 1.911 1.235 3.221 0 4.609-2.807 5.624-5.479 5.921.43.372.823 1.102.823 2.222v3.293c0 .319.192.694.801.576 4.765-1.589 8.199-6.086 8.199-11.386 0-6.627-5.373-12-12-12z\"/>\n",
        "            </svg>\n",
        "            <span>oechenique</span>\n",
        "        </a>\n",
        "\n",
        "        <a href=\"https://oechenique.github.io/geoanalytics/\" target=\"_blank\" style=\"text-decoration: none; color: white; display: flex; align-items: center; background: #2ecc71; padding: 0.5rem 1rem; border-radius: 5px; transition: transform 0.2s;\">\n",
        "            <svg style=\"width: 24px; height: 24px; margin-right: 0.5rem;\" viewBox=\"0 0 24 24\" fill=\"currentColor\">\n",
        "                <path d=\"M12 0c-6.627 0-12 5.373-12 12s5.373 12 12 12 12-5.373 12-12-5.373-12-12-12zm1 16.057v-3.057h2.994c-.059 1.143-.212 2.24-.456 3.279-.823-.12-1.674-.188-2.538-.222zm1.957 2.162c-.499 1.33-1.159 2.497-1.957 3.456v-3.62c.666.028 1.319.081 1.957.164zm-1.957-7.219v-3.015c.868-.034 1.721-.103 2.548-.224.238 1.027.389 2.111.446 3.239h-2.994zm0-5.014v-3.661c.806.969 1.471 2.15 1.971 3.496-.642.084-1.3.137-1.971.165zm2.703-3.267c1.237.496 2.354 1.228 3.29 2.146-.642.234-1.311.442-2.019.607-.344-.992-.775-1.91-1.271-2.753zm-7.241 13.56c-.244-1.039-.398-2.136-.456-3.279h2.994v3.057c-.865.034-1.714.102-2.538.222zm2.538 1.776v3.62c-.798-.959-1.458-2.126-1.957-3.456.638-.083 1.291-.136 1.957-.164zm-2.994-7.055c.057-1.128.207-2.212.446-3.239.827.121 1.68.19 2.548.224v3.015h-2.994zm1.024-5.179c.5-1.346 1.165-2.527 1.97-3.496v3.661c-.671-.028-1.329-.081-1.97-.165zm-2.005-.35c-.708-.165-1.377-.373-2.018-.607.937-.918 2.053-1.65 3.29-2.146-.496.844-.927 1.762-1.272 2.753zm-.549 1.918c-.264 1.151-.434 2.36-.492 3.611h-3.933c.165-1.658.739-3.197 1.617-4.518.88.361 1.816.67 2.808.907zm.009 9.262c-.988.236-1.92.542-2.797.9-.89-1.328-1.471-2.879-1.637-4.551h3.934c.058 1.265.231 2.488.5 3.651zm.553 1.917c.342.976.768 1.881 1.257 2.712-1.223-.49-2.326-1.211-3.256-2.115.636-.229 1.299-.435 1.999-.597zm9.924 0c.7.163 1.362.367 1.999.597-.931.903-2.034 1.625-3.257 2.116.489-.832.915-1.737 1.258-2.713zm.553-1.917c.27-1.163.442-2.386.501-3.651h3.934c-.167 1.672-.748 3.223-1.638 4.551-.877-.358-1.81-.664-2.797-.9zm.501-5.651c-.058-1.251-.229-2.46-.492-3.611.992-.237 1.929-.546 2.809-.907.877 1.321 1.451 2.86 1.616 4.518h-3.933z\"/>\n",
        "            </svg>\n",
        "            <span>GeoAnalytics</span>\n",
        "        </a>\n",
        "\n",
        "        <a href=\"https://discord.com/users/gastonechenique\" target=\"_blank\" style=\"text-decoration: none; color: white; display: flex; align-items: center; background: #5865F2; padding: 0.5rem 1rem; border-radius: 5px; transition: transform 0.2s;\">\n",
        "            <svg style=\"width: 24px; height: 24px; margin-right: 0.5rem;\" viewBox=\"0 0 24 24\" fill=\"currentColor\">\n",
        "                <path d=\"M20.317 4.37a19.791 19.791 0 0 0-4.885-1.515a.074.074 0 0 0-.079.037c-.21.375-.444.864-.608 1.25a18.27 18.27 0 0 0-5.487 0a12.64 12.64 0 0 0-.617-1.25a.077.077 0 0 0-.079-.037A19.736 19.736 0 0 0 3.677 4.37a.07.07 0 0 0-.032.027C.533 9.046-.32 13.58.099 18.057a.082.082 0 0 0 .031.057a19.9 19.9 0 0 0 5.993 3.03a.078.078 0 0 0 .084-.028a14.09 14.09 0 0 0 1.226-1.994a.076.076 0 0 0-.041-.106a13.107 13.107 0 0 1-1.872-.892a.077.077 0 0 1-.008-.128a10.2 10.2 0 0 0 .372-.292a.074.074 0 0 1 .077-.01c3.928 1.793 8.18 1.793 12.062 0a.074.074 0 0 1 .078.01c.12.098.246.198.373.292a.077.077 0 0 1-.006.127a12.299 12.299 0 0 1-1.873.892a.077.077 0 0 0-.041.107c.36.698.772 1.362 1.225 1.993a.076.076 0 0 0 .084.028a19.839 19.839 0 0 0 6.002-3.03a.077.077 0 0 0 .032-.054c.5-5.177-.838-9.674-3.549-13.66a.061.061 0 0 0-.031-.03zM8.02 15.33c-1.183 0-2.157-1.085-2.157-2.419c0-1.333.956-2.419 2.157-2.419c1.21 0 2.176 1.096 2.157 2.42c0 1.333-.956 2.418-2.157 2.418zm7.975 0c-1.183 0-2.157-1.085-2.157-2.419c0-1.333.955-2.419 2.157-2.419c1.21 0 2.176 1.096 2.157 2.42c0 1.333-.946 2.418-2.157 2.418z\"/>\n",
        "            </svg>\n",
        "            <span>Gaston | ガストン</span>\n",
        "        </a>\n",
        "    </div>\n",
        "\n",
        "    <p style=\"font-size: 1rem; color: #888;\">💡 頑張りましょう！Don't miss more content about GIS, Data Science and Geoinformatics!</p>\n",
        "\n",
        "    <div style=\"margin-top: 1rem; padding-top: 1rem; border-top: 1px solid #444; font-size: 0.9rem; color: #666;\">\n",
        "        Made with 🗺️ & 💻 by Gaston Echenique | エチェニケ・ガストン\n",
        "    </div>\n",
        "</div>"
      ],
      "metadata": {
        "colab": {
          "base_uri": "https://localhost:8080/",
          "height": 498
        },
        "cellView": "form",
        "id": "kWZnYrcDJDAB",
        "outputId": "56e5bc72-1d9a-411d-9bcf-718b962fecbc"
      },
      "execution_count": 4,
      "outputs": [
        {
          "output_type": "display_data",
          "data": {
            "text/plain": [
              "<IPython.core.display.HTML object>"
            ],
            "text/html": [
              "\n",
              "<div style=\"background: linear-gradient(90deg, #1a1a1a, #2d2d2d); color: white; padding: 2rem; border-radius: 10px; font-family: 'Roboto', sans-serif; margin-top: 2rem;\">\n",
              "    <h2 style=\"text-align: center; margin-bottom: 1rem;\">\n",
              "        <span style=\"display: block; color: white; font-size: 2.7rem; margin-bottom: 0.5rem;\">ありがとうございます！</span>\n",
              "        <span style=\"display: block; color: white; font-size: 1.8rem;\">🌍 Thank you for making it this far! 🎌</span>\n",
              "    </h2>\n",
              "\n",
              "    <p style=\"font-size: 1.2rem; margin-bottom: 1.5rem;\">If you're interested in the world of geoinformatics and want to keep learning, connect with me! | 一緒に学びましょう！</p>\n",
              "\n",
              "    <div style=\"display: flex; flex-wrap: wrap; gap: 1rem; margin-bottom: 1rem;\">\n",
              "        <a href=\"https://x.com/GastonEchenique\" target=\"_blank\" style=\"text-decoration: none; color: white; display: flex; align-items: center; background: #1DA1F2; padding: 0.5rem 1rem; border-radius: 5px; transition: transform 0.2s;\">\n",
              "            <svg style=\"width: 24px; height: 24px; margin-right: 0.5rem;\" viewBox=\"0 0 24 24\" fill=\"currentColor\">\n",
              "                <path d=\"M18.244 2.25h3.308l-7.227 8.26 8.502 11.24H16.17l-5.214-6.817L4.99 21.75H1.68l7.73-8.835L1.254 2.25H8.08l4.713 6.231zm-1.161 17.52h1.833L7.084 4.126H5.117z\"/>\n",
              "            </svg>\n",
              "            <span>@GastonEchenique</span>\n",
              "        </a>\n",
              "\n",
              "        <a href=\"https://www.linkedin.com/in/gaston-echenique/\" target=\"_blank\" style=\"text-decoration: none; color: white; display: flex; align-items: center; background: #0A66C2; padding: 0.5rem 1rem; border-radius: 5px; transition: transform 0.2s;\">\n",
              "            <svg style=\"width: 24px; height: 24px; margin-right: 0.5rem;\" viewBox=\"0 0 24 24\" fill=\"currentColor\">\n",
              "                <path d=\"M20.447 20.452h-3.554v-5.569c0-1.328-.027-3.037-1.852-3.037-1.853 0-2.136 1.445-2.136 2.939v5.667H9.351V9h3.414v1.561h.046c.477-.9 1.637-1.85 3.37-1.85 3.601 0 4.267 2.37 4.267 5.455v6.286zM5.337 7.433c-1.144 0-2.063-.926-2.063-2.065 0-1.138.92-2.063 2.063-2.063 1.14 0 2.064.925 2.064 2.063 0 1.139-.925 2.065-2.064 2.065zm1.782 13.019H3.555V9h3.564v11.452zM22.225 0H1.771C.792 0 0 .774 0 1.729v20.542C0 23.227.792 24 1.771 24h20.451C23.2 24 24 23.227 24 22.271V1.729C24 .774 23.2 0 22.222 0h.003z\"/>\n",
              "            </svg>\n",
              "            <span>Gastón Echenique</span>\n",
              "        </a>\n",
              "\n",
              "        <a href=\"https://github.com/oechenique\" target=\"_blank\" style=\"text-decoration: none; color: white; display: flex; align-items: center; background: #333; padding: 0.5rem 1rem; border-radius: 5px; transition: transform 0.2s;\">\n",
              "            <svg style=\"width: 24px; height: 24px; margin-right: 0.5rem;\" viewBox=\"0 0 24 24\" fill=\"currentColor\">\n",
              "                <path d=\"M12 0c-6.626 0-12 5.373-12 12 0 5.302 3.438 9.8 8.207 11.387.599.111.793-.261.793-.577v-2.234c-3.338.726-4.033-1.416-4.033-1.416-.546-1.387-1.333-1.756-1.333-1.756-1.089-.745.083-.729.083-.729 1.205.084 1.839 1.237 1.839 1.237 1.07 1.834 2.807 1.304 3.492.997.107-.775.418-1.305.762-1.604-2.665-.305-5.467-1.334-5.467-5.931 0-1.311.469-2.381 1.236-3.221-.124-.303-.535-1.524.117-3.176 0 0 1.008-.322 3.301 1.23.957-.266 1.983-.399 3.003-.404 1.02.005 2.047.138 3.006.404 2.291-1.552 3.297-1.23 3.297-1.23.653 1.653.242 2.874.118 3.176.77.84 1.235 1.911 1.235 3.221 0 4.609-2.807 5.624-5.479 5.921.43.372.823 1.102.823 2.222v3.293c0 .319.192.694.801.576 4.765-1.589 8.199-6.086 8.199-11.386 0-6.627-5.373-12-12-12z\"/>\n",
              "            </svg>\n",
              "            <span>oechenique</span>\n",
              "        </a>\n",
              "\n",
              "        <a href=\"https://oechenique.github.io/geoanalytics/\" target=\"_blank\" style=\"text-decoration: none; color: white; display: flex; align-items: center; background: #2ecc71; padding: 0.5rem 1rem; border-radius: 5px; transition: transform 0.2s;\">\n",
              "            <svg style=\"width: 24px; height: 24px; margin-right: 0.5rem;\" viewBox=\"0 0 24 24\" fill=\"currentColor\">\n",
              "                <path d=\"M12 0c-6.627 0-12 5.373-12 12s5.373 12 12 12 12-5.373 12-12-5.373-12-12-12zm1 16.057v-3.057h2.994c-.059 1.143-.212 2.24-.456 3.279-.823-.12-1.674-.188-2.538-.222zm1.957 2.162c-.499 1.33-1.159 2.497-1.957 3.456v-3.62c.666.028 1.319.081 1.957.164zm-1.957-7.219v-3.015c.868-.034 1.721-.103 2.548-.224.238 1.027.389 2.111.446 3.239h-2.994zm0-5.014v-3.661c.806.969 1.471 2.15 1.971 3.496-.642.084-1.3.137-1.971.165zm2.703-3.267c1.237.496 2.354 1.228 3.29 2.146-.642.234-1.311.442-2.019.607-.344-.992-.775-1.91-1.271-2.753zm-7.241 13.56c-.244-1.039-.398-2.136-.456-3.279h2.994v3.057c-.865.034-1.714.102-2.538.222zm2.538 1.776v3.62c-.798-.959-1.458-2.126-1.957-3.456.638-.083 1.291-.136 1.957-.164zm-2.994-7.055c.057-1.128.207-2.212.446-3.239.827.121 1.68.19 2.548.224v3.015h-2.994zm1.024-5.179c.5-1.346 1.165-2.527 1.97-3.496v3.661c-.671-.028-1.329-.081-1.97-.165zm-2.005-.35c-.708-.165-1.377-.373-2.018-.607.937-.918 2.053-1.65 3.29-2.146-.496.844-.927 1.762-1.272 2.753zm-.549 1.918c-.264 1.151-.434 2.36-.492 3.611h-3.933c.165-1.658.739-3.197 1.617-4.518.88.361 1.816.67 2.808.907zm.009 9.262c-.988.236-1.92.542-2.797.9-.89-1.328-1.471-2.879-1.637-4.551h3.934c.058 1.265.231 2.488.5 3.651zm.553 1.917c.342.976.768 1.881 1.257 2.712-1.223-.49-2.326-1.211-3.256-2.115.636-.229 1.299-.435 1.999-.597zm9.924 0c.7.163 1.362.367 1.999.597-.931.903-2.034 1.625-3.257 2.116.489-.832.915-1.737 1.258-2.713zm.553-1.917c.27-1.163.442-2.386.501-3.651h3.934c-.167 1.672-.748 3.223-1.638 4.551-.877-.358-1.81-.664-2.797-.9zm.501-5.651c-.058-1.251-.229-2.46-.492-3.611.992-.237 1.929-.546 2.809-.907.877 1.321 1.451 2.86 1.616 4.518h-3.933z\"/>\n",
              "            </svg>\n",
              "            <span>GeoAnalytics</span>\n",
              "        </a>\n",
              "\n",
              "        <a href=\"https://discord.com/users/gastonechenique\" target=\"_blank\" style=\"text-decoration: none; color: white; display: flex; align-items: center; background: #5865F2; padding: 0.5rem 1rem; border-radius: 5px; transition: transform 0.2s;\">\n",
              "            <svg style=\"width: 24px; height: 24px; margin-right: 0.5rem;\" viewBox=\"0 0 24 24\" fill=\"currentColor\">\n",
              "                <path d=\"M20.317 4.37a19.791 19.791 0 0 0-4.885-1.515a.074.074 0 0 0-.079.037c-.21.375-.444.864-.608 1.25a18.27 18.27 0 0 0-5.487 0a12.64 12.64 0 0 0-.617-1.25a.077.077 0 0 0-.079-.037A19.736 19.736 0 0 0 3.677 4.37a.07.07 0 0 0-.032.027C.533 9.046-.32 13.58.099 18.057a.082.082 0 0 0 .031.057a19.9 19.9 0 0 0 5.993 3.03a.078.078 0 0 0 .084-.028a14.09 14.09 0 0 0 1.226-1.994a.076.076 0 0 0-.041-.106a13.107 13.107 0 0 1-1.872-.892a.077.077 0 0 1-.008-.128a10.2 10.2 0 0 0 .372-.292a.074.074 0 0 1 .077-.01c3.928 1.793 8.18 1.793 12.062 0a.074.074 0 0 1 .078.01c.12.098.246.198.373.292a.077.077 0 0 1-.006.127a12.299 12.299 0 0 1-1.873.892a.077.077 0 0 0-.041.107c.36.698.772 1.362 1.225 1.993a.076.076 0 0 0 .084.028a19.839 19.839 0 0 0 6.002-3.03a.077.077 0 0 0 .032-.054c.5-5.177-.838-9.674-3.549-13.66a.061.061 0 0 0-.031-.03zM8.02 15.33c-1.183 0-2.157-1.085-2.157-2.419c0-1.333.956-2.419 2.157-2.419c1.21 0 2.176 1.096 2.157 2.42c0 1.333-.956 2.418-2.157 2.418zm7.975 0c-1.183 0-2.157-1.085-2.157-2.419c0-1.333.955-2.419 2.157-2.419c1.21 0 2.176 1.096 2.157 2.42c0 1.333-.946 2.418-2.157 2.418z\"/>\n",
              "            </svg>\n",
              "            <span>Gaston | ガストン</span>\n",
              "        </a>\n",
              "    </div>\n",
              "\n",
              "    <p style=\"font-size: 1rem; color: #888;\">💡 頑張りましょう！Don't miss more content about GIS, Data Science and Geoinformatics!</p>\n",
              "\n",
              "    <div style=\"margin-top: 1rem; padding-top: 1rem; border-top: 1px solid #444; font-size: 0.9rem; color: #666;\">\n",
              "        Made with 🗺️ & 💻 by Gaston Echenique | エチェニケ・ガストン\n",
              "    </div>\n",
              "</div>\n"
            ]
          },
          "metadata": {}
        }
      ]
    }
  ]
}